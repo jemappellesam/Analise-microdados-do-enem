{
 "cells": [
  {
   "cell_type": "code",
   "execution_count": null,
   "metadata": {},
   "outputs": [],
   "source": [
    "!pip install matplotlib\n",
    "!pip install pandas\n",
    "!pip install seaborn\n",
    "!pip install scipy"
   ]
  },
  {
   "cell_type": "code",
   "execution_count": null,
   "metadata": {
    "id": "4djM8YWZcdMR"
   },
   "outputs": [],
   "source": [
    "import pandas as pd\n",
    "import matplotlib.pyplot as plt\n",
    "import seaborn as sns\n",
    "from scipy import stats\n",
    "\n",
    "#como parte do tratamento de dados foi necessário identificar que a codifição do arquivo não era o padrão do método read do pandas\n",
    "microdados_df = pd.read_csv('MICRODADOS_ENEM_2023.csv', encoding='ISO-8859-1', sep=';')\n",
    "itens_prova_df = pd.read_csv('ITENS_PROVA_2023.csv', encoding='ISO-8859-1', sep=';')\n",
    "\n",
    "microdados_df.head(10)"
   ]
  },
  {
   "cell_type": "markdown",
   "metadata": {
    "id": "r0pz_IgbeK4G"
   },
   "source": [
    "# PRINCIPAIS CARACTERISTICAS DO DATASET"
   ]
  },
  {
   "cell_type": "code",
   "execution_count": null,
   "metadata": {
    "id": "nnGoTnM9ef1M",
    "scrolled": true
   },
   "outputs": [],
   "source": [
    "itens_prova_df.info()"
   ]
  },
  {
   "cell_type": "markdown",
   "metadata": {
    "id": "sdlB2fuBe-RE"
   },
   "source": [
    "# PADRÕES OU TENDENCIAS"
   ]
  },
  {
   "cell_type": "markdown",
   "metadata": {},
   "source": [
    "### Estatísticas descritivas para as variáveis numéricas"
   ]
  },
  {
   "cell_type": "code",
   "execution_count": null,
   "metadata": {
    "id": "l9o78Ly1fABR"
   },
   "outputs": [],
   "source": [
    "microdados_df.describe()"
   ]
  },
  {
   "cell_type": "markdown",
   "metadata": {},
   "source": [
    "### Verificar a quantidade de valores ausentes"
   ]
  },
  {
   "cell_type": "code",
   "execution_count": null,
   "metadata": {
    "id": "f4L9MzYEfIsw"
   },
   "outputs": [],
   "source": [
    "microdados_df.isnull().sum()"
   ]
  },
  {
   "cell_type": "markdown",
   "metadata": {},
   "source": [
    "### Verificar valores ausentes em todas as colunas Q001 até Q025"
   ]
  },
  {
   "cell_type": "code",
   "execution_count": null,
   "metadata": {
    "id": "15oCNoT0f1fm"
   },
   "outputs": [],
   "source": [
    "questoes_columns = [f'Q{i:03}' for i in range(1, 26)]\n",
    "missing_questoes = microdados_df[questoes_columns].isnull().sum()\n",
    "missing_questoes.head()"
   ]
  },
  {
   "cell_type": "markdown",
   "metadata": {
    "id": "zoTD3VTOgvuM"
   },
   "source": [
    "- ***Os dados indicam que somente uma pessoa deixou o questionário socio economico em branco***\n"
   ]
  },
  {
   "cell_type": "markdown",
   "metadata": {},
   "source": [
    "### Mostrar todas as linhas que têm pelo menos um valor ausente nas colunas Q001 até Q025"
   ]
  },
  {
   "cell_type": "code",
   "execution_count": null,
   "metadata": {
    "id": "xMTu3Ufff57u"
   },
   "outputs": [],
   "source": [
    "missing_responses_all = microdados_df[microdados_df[questoes_columns].isnull().any(axis=1)]\n",
    "missing_responses_all.head()"
   ]
  },
  {
   "cell_type": "markdown",
   "metadata": {},
   "source": [
    "- **Esse passo evidencia que o dataset foi provavelmente preparado previamente**"
   ]
  },
  {
   "cell_type": "markdown",
   "metadata": {
    "id": "8kwnJex9hKEv"
   },
   "source": [
    "# BUSCA DE TENDENCIAS"
   ]
  },
  {
   "cell_type": "markdown",
   "metadata": {},
   "source": [
    "### Distribuição do sexo"
   ]
  },
  {
   "cell_type": "code",
   "execution_count": null,
   "metadata": {
    "id": "BJg15IZyhMSs"
   },
   "outputs": [],
   "source": [
    "sexo_distribuicao = microdados_df['TP_SEXO'].value_counts()\n",
    "print(\"Distribuição de Sexo:\")\n",
    "print(sexo_distribuicao)\n",
    "\n",
    "sexo_distribuicao.plot(kind='bar', figsize=(8, 5), title='Distribuição de Sexo', xlabel='Sexo', ylabel='Quantidade de Inscritos')\n"
   ]
  },
  {
   "cell_type": "markdown",
   "metadata": {},
   "source": [
    "### Distribuição da faixa etária"
   ]
  },
  {
   "cell_type": "code",
   "execution_count": null,
   "metadata": {
    "id": "a2zbgd2chaxy"
   },
   "outputs": [],
   "source": [
    "faixa_etaria_distribuicao = microdados_df['TP_FAIXA_ETARIA'].value_counts()\n",
    "print(\"Distribuição da Faixa Etária:\")\n",
    "print(faixa_etaria_distribuicao)\n",
    "\n",
    "\n",
    "faixa_etaria_distribuicao.plot(kind='bar', figsize=(8, 5), title='Distribuição da Faixa Etária', xlabel='Faixa Etária', ylabel='Quantidade de Inscritos')\n"
   ]
  },
  {
   "cell_type": "markdown",
   "metadata": {},
   "source": [
    "### Distribuição de respostas para a questão Q001"
   ]
  },
  {
   "cell_type": "code",
   "execution_count": null,
   "metadata": {
    "id": "U1ZRSD3VhsQp",
    "scrolled": true
   },
   "outputs": [],
   "source": [
    "q001_distribuicao = microdados_df['Q001'].value_counts()\n",
    "print(\"Distribuição das Respostas para Q001:\")\n",
    "print(q001_distribuicao)\n",
    "\n",
    "q001_distribuicao.plot(kind='bar', figsize=(8, 5), title='Distribuição das Respostas para Q001', xlabel='Resposta', ylabel='Quantidade de Inscritos')"
   ]
  },
  {
   "cell_type": "markdown",
   "metadata": {
    "id": "ti-_BZQJ0nS6"
   },
   "source": [
    "# Qual a distribuição das notas das provas por Estado (UF) e por componente?"
   ]
  },
  {
   "cell_type": "code",
   "execution_count": null,
   "metadata": {
    "id": "DLaw2q7h0rRZ"
   },
   "outputs": [],
   "source": [
    "notas_por_estado = microdados_df.groupby('SG_UF_PROVA')[['NU_NOTA_CN', 'NU_NOTA_CH', 'NU_NOTA_LC', 'NU_NOTA_MT']].mean()\n",
    "print(notas_por_estado.head())\n",
    "\n",
    "plt.figure(figsize=(12, 6))\n",
    "\n",
    "for i, componente in enumerate(['NU_NOTA_CN', 'NU_NOTA_CH', 'NU_NOTA_LC', 'NU_NOTA_MT']):\n",
    "    plt.subplot(2, 2, i+1)\n",
    "    notas_por_estado[componente].plot(kind='bar', color='skyblue', figsize=(12, 8))\n",
    "    plt.title(f'Média de {componente} por Estado')\n",
    "    plt.xlabel('Estado')\n",
    "    plt.ylabel('Média das Notas')\n",
    "    plt.xticks(rotation=90)\n",
    "\n",
    "plt.tight_layout()\n",
    "plt.show()\n",
    "\n",
    "def plot_com_destaques(componente, notas_por_estado):\n",
    "    max_estado = notas_por_estado[componente].idxmax()\n",
    "    min_estado = notas_por_estado[componente].idxmin()\n",
    "\n",
    "    plt.bar(notas_por_estado.index, notas_por_estado[componente], color='skyblue')\n",
    "    plt.bar(max_estado, notas_por_estado[componente].loc[max_estado], color='green', label=f'Maior Nota ({max_estado})', zorder=5)\n",
    "    plt.bar(min_estado, notas_por_estado[componente].loc[min_estado], color='red', label=f'Menor Nota ({min_estado})', zorder=5)\n",
    "    plt.title(f'Média de {componente} por Estado')\n",
    "    plt.xlabel('Estado')\n",
    "    plt.ylabel('Média das Notas')\n",
    "    plt.xticks(rotation=90)\n",
    "    plt.legend()\n",
    "\n",
    "plt.figure(figsize=(12, 8))\n",
    "\n",
    "for i, componente in enumerate(['NU_NOTA_CN', 'NU_NOTA_CH', 'NU_NOTA_LC', 'NU_NOTA_MT']):\n",
    "    plt.subplot(2, 2, i+1)\n",
    "    plot_com_destaques(componente, notas_por_estado)\n",
    "\n",
    "# Ajustar o layout\n",
    "plt.tight_layout()\n",
    "plt.show()"
   ]
  },
  {
   "cell_type": "markdown",
   "metadata": {
    "id": "UaRTFsah2BJj"
   },
   "source": [
    "# Qual é o impacto do tipo de língua escolhida (língua estrangeira) no desempenho?"
   ]
  },
  {
   "cell_type": "code",
   "execution_count": null,
   "metadata": {
    "id": "zYq9nxlE4X1X"
   },
   "outputs": [],
   "source": [
    "lingua_media = microdados_df.groupby('TP_LINGUA')['NU_NOTA_LC'].mean()\n",
    "\n",
    "print(lingua_media.head())\n",
    "\n",
    "lingua_media.index = lingua_media.index.map({0: 'Inglês', 1: 'Espanhol'})\n",
    "\n",
    "plt.figure(figsize=(8, 5))\n",
    "lingua_media.plot(kind='bar', color=['blue', 'green'])\n",
    "plt.title('Média das Notas na Prova de Linguagens por Língua Escolhida', fontsize=14)\n",
    "plt.xlabel('Língua Escolhida', fontsize=12)\n",
    "plt.ylabel('Média da Nota de Linguagens (NU_NOTA_LC)', fontsize=12)\n",
    "plt.xticks(rotation=0)\n",
    "plt.tight_layout()\n",
    "\n",
    "plt.show()\n",
    "\n",
    "lingua_contagem = microdados_df['TP_LINGUA'].value_counts()\n",
    "\n",
    "lingua_contagem.index = lingua_contagem.index.map({0: 'Inglês', 1: 'Espanhol'})\n",
    "\n",
    "plt.figure(figsize=(8, 5))\n",
    "lingua_contagem.plot(kind='bar', color=['blue', 'green'])\n",
    "plt.title('Número de Alunos que Optaram por Cada Língua', fontsize=14)\n",
    "plt.xlabel('Língua Escolhida', fontsize=12)\n",
    "plt.ylabel('Número de Alunos', fontsize=12)\n",
    "plt.xticks(rotation=0)\n",
    "plt.tight_layout()\n",
    "\n",
    "plt.show()\n",
    "\n",
    "areas_provas = ['NU_NOTA_CN', 'NU_NOTA_CH', 'NU_NOTA_LC', 'NU_NOTA_MT']\n",
    "\n",
    "media_areas = microdados_df.groupby('TP_LINGUA')[areas_provas].mean()\n",
    "\n",
    "media_geral = media_areas.mean(axis=1)\n",
    "\n",
    "media_geral.index = media_geral.index.map({0: 'Inglês', 1: 'Espanhol'})\n",
    "\n",
    "print(media_geral)\n",
    "\n",
    "plt.figure(figsize=(8, 5))\n",
    "media_geral.plot(kind='bar', color=['blue', 'green'])\n",
    "\n",
    "plt.title('Média Geral das Notas do ENEM por Língua', fontsize=14)\n",
    "plt.xlabel('Língua Escolhida', fontsize=12)\n",
    "plt.ylabel('Média Geral das Notas', fontsize=12)\n",
    "plt.xticks(rotation=0)  \n",
    "plt.tight_layout()\n",
    "\n",
    "plt.show()"
   ]
  },
  {
   "cell_type": "markdown",
   "metadata": {},
   "source": [
    "- **Quem escolhe a prova de inglês tem uma média maior.**"
   ]
  },
  {
   "cell_type": "markdown",
   "metadata": {
    "id": "gJHi2Orq7g6a"
   },
   "source": [
    "# COMO FATORES SOCIAIS INFLUENCIAM NA NOTA?"
   ]
  },
  {
   "cell_type": "code",
   "execution_count": null,
   "metadata": {
    "colab": {
     "base_uri": "https://localhost:8080/",
     "height": 746
    },
    "id": "n63NRhqn7Y8z",
    "outputId": "29e5da6c-604b-427d-e8d5-fdf1f8db3d36"
   },
   "outputs": [],
   "source": [
    "grupo_q003_contagem = microdados_df['Q003'].value_counts()\n",
    "\n",
    "print(grupo_q003_contagem)\n",
    "\n",
    "mapa_grupos = {\n",
    "    'A': 'Grupo 1: Trabalhadores rurais e informais',\n",
    "    'B': 'Grupo 2: Serviços domésticos e informais',\n",
    "    'C': 'Grupo 3: Trabalhadores industriais e de produção',\n",
    "    'D': 'Grupo 4: Profissionais técnicos e supervisores',\n",
    "    'E': 'Grupo 5: Profissionais de alta qualificação',\n",
    "    'F': 'Não sei'\n",
    "}\n",
    "\n",
    "microdados_df['Q003_descritivo'] = microdados_df['Q003'].map(mapa_grupos)\n",
    "\n",
    "grupo_q003_contagem_descritivo = microdados_df['Q003_descritivo'].value_counts()\n",
    "\n",
    "grupo_q003_contagem_descritivo.plot(kind='bar', color='skyblue', figsize=(10, 6))\n",
    "plt.title('Distribuição dos Grupos de Ocupação (Q003)', fontsize=14)\n",
    "plt.xlabel('Grupo de Ocupação', fontsize=12)\n",
    "plt.ylabel('Número de Alunos', fontsize=12)\n",
    "plt.xticks(rotation=45, ha=\"right\")\n",
    "plt.tight_layout()\n",
    "plt.show()\n",
    "\n",
    "distribuicao_renda = microdados_df['Q006'].value_counts()\n",
    "\n",
    "mapa_renda = {\n",
    "    'A': 'Nenhuma Renda',\n",
    "    'B': 'Até R$ 1.320,00',\n",
    "    'C': 'De R$ 1.320,01 até R$ 1.980,00',\n",
    "    'D': 'De R$ 1.980,01 até R$ 2.640,00',\n",
    "    'E': 'De R$ 2.640,01 até R$ 3.300,00',\n",
    "    'F': 'De R$ 3.300,01 até R$ 3.960,00',\n",
    "    'G': 'De R$ 3.960,01 até R$ 5.280,00',\n",
    "    'H': 'De R$ 5.280,01 até R$ 6.600,00',\n",
    "    'I': 'De R$ 6.600,01 até R$ 7.920,00',\n",
    "    'J': 'De R$ 7.920,01 até R$ 9.240,00',\n",
    "    'K': 'De R$ 9.240,01 até R$ 10.560,00',\n",
    "    'L': 'De R$ 10.560,01 até R$ 11.880,00',\n",
    "    'M': 'De R$ 11.880,01 até R$ 13.200,00',\n",
    "    'N': 'De R$ 13.200,01 até R$ 15.840,00',\n",
    "    'O': 'De R$ 15.840,01 até R$ 19.800,00',\n",
    "    'P': 'De R$ 19.800,01 até R$ 26.400,00',\n",
    "    'Q': 'Acima de R$ 26.400,00'\n",
    "}\n",
    "\n",
    "distribuicao_renda = microdados_df['Q006'].value_counts()\n",
    "\n",
    "mapa_renda = {\n",
    "    'A': 'Nenhuma Renda',\n",
    "    'B': 'Até R$ 1.320,00',\n",
    "    'C': 'De R$ 1.320,01 até R$ 1.980,00',\n",
    "    'D': 'De R$ 1.980,01 até R$ 2.640,00',\n",
    "    'E': 'De R$ 2.640,01 até R$ 3.300,00',\n",
    "    'F': 'De R$ 3.300,01 até R$ 3.960,00',\n",
    "    'G': 'De R$ 3.960,01 até R$ 5.280,00',\n",
    "    'H': 'De R$ 5.280,01 até R$ 6.600,00',\n",
    "    'I': 'De R$ 6.600,01 até R$ 7.920,00',\n",
    "    'J': 'De R$ 7.920,01 até R$ 9.240,00',\n",
    "    'K': 'De R$ 9.240,01 até R$ 10.560,00',\n",
    "    'L': 'De R$ 10.560,01 até R$ 11.880,00',\n",
    "    'M': 'De R$ 11.880,01 até R$ 13.200,00',\n",
    "    'N': 'De R$ 13.200,01 até R$ 15.840,00',\n",
    "    'O': 'De R$ 15.840,01 até R$ 19.800,00',\n",
    "    'P': 'De R$ 19.800,01 até R$ 26.400,00',\n",
    "    'Q': 'Acima de R$ 26.400,00'\n",
    "}\n",
    "\n",
    "microdados_df['Q006_descritivo'] = microdados_df['Q006'].map(mapa_renda)\n",
    "\n",
    "distribuicao_renda_descritivo = microdados_df['Q006_descritivo'].value_counts()\n",
    "\n",
    "distribuicao_renda_descritivo = distribuicao_renda_descritivo.sort_values(ascending=False)\n",
    "\n",
    "distribuicao_renda_descritivo.plot(kind='bar', color='lightseagreen', figsize=(10, 6))\n",
    "plt.title('Distribuição de Alunos por Faixa de Renda (Q006)', fontsize=14)\n",
    "plt.xlabel('Faixa de Renda', fontsize=12)\n",
    "plt.ylabel('Número de Alunos', fontsize=12)\n",
    "plt.xticks(rotation=45, ha=\"right\")\n",
    "plt.tight_layout()\n",
    "plt.show()\n",
    "\n",
    "media_notas_renda = microdados_df.groupby('Q006')['NU_NOTA_LC'].mean()\n",
    "\n",
    "media_notas_renda.index = media_notas_renda.index.map(mapa_renda)\n",
    "\n",
    "print(media_notas_renda)\n",
    "\n",
    "media_notas_renda.plot(kind='bar', color='lightcoral', figsize=(10, 6))\n",
    "plt.title('Média das Notas de Linguagens por Faixa de Renda', fontsize=14)\n",
    "plt.xlabel('Faixa de Renda', fontsize=12)\n",
    "plt.ylabel('Média da Nota de Linguagens', fontsize=12)\n",
    "plt.xticks(rotation=45, ha=\"right\")\n",
    "plt.tight_layout()\n",
    "plt.show()"
   ]
  },
  {
   "cell_type": "markdown",
   "metadata": {
    "id": "nIWj74rj8bC1"
   },
   "source": [
    "- **As faixas de maior renda geralmente apresentam notas mais altas, porém a diferença pode ser menos acentuada do que o senso comum sugere. Isso indica que a educação no país enfrenta deficiências generalizadas, afetando todas as classes sociais.**"
   ]
  },
  {
   "cell_type": "markdown",
   "metadata": {
    "id": "sh5E35-UGFJB"
   },
   "source": [
    "# EXISTE RELAÇÃO ENTRE ESCOLHA DE LINGUA E SITUAÇÃO SOCIO-ECONOMICA?"
   ]
  },
  {
   "cell_type": "code",
   "execution_count": null,
   "metadata": {
    "colab": {
     "base_uri": "https://localhost:8080/",
     "height": 504
    },
    "id": "hd-96qF_GJLf",
    "outputId": "274e1426-9c23-46c4-f124-b045c24736b9"
   },
   "outputs": [],
   "source": [
    "renda_map = {\n",
    "    'A': 0, 'B': 1320, 'C': 1650, 'D': 2220, 'E': 2700, 'F': 3300,\n",
    "    'G': 3960, 'H': 5280, 'I': 6600, 'J': 7920, 'K': 9240, 'L': 10560,\n",
    "    'M': 11880, 'N': 13200, 'O': 15840, 'P': 19800, 'Q': 26400\n",
    "}\n",
    "\n",
    "microdados_df['Renda'] = microdados_df['Q006'].map(renda_map)\n",
    "\n",
    "lingua_counts = microdados_df.groupby(['Renda', 'TP_LINGUA']).size().unstack(fill_value=0)\n",
    "\n",
    "plt.figure(figsize=(10, 6))\n",
    "lingua_counts.plot(kind='bar', stacked=True, color=['#3b8c9f', '#e57e73'], width=0.8)\n",
    "plt.title('Escolha da Língua Estrangeira por Faixa de Renda', fontsize=16)\n",
    "plt.xlabel('Faixa de Renda (R$)', fontsize=12)\n",
    "plt.ylabel('Número de Inscritos', fontsize=12)\n",
    "plt.xticks(rotation=45)\n",
    "plt.legend(['Inglês', 'Espanhol'])\n",
    "plt.tight_layout()\n",
    "plt.show()\n"
   ]
  },
  {
   "cell_type": "markdown",
   "metadata": {
    "id": "ilBQqfxmIu_M"
   },
   "source": [
    "- **Rendas mais baixas optam pelo espanhol, isso pode ser mais uma justificativa para alunos do espanhol terem uma média geral menor nas provas. Considerando que o fator socio economico também induz o resultado**"
   ]
  },
  {
   "cell_type": "markdown",
   "metadata": {
    "id": "MbnVl93OJUhx"
   },
   "source": [
    "# Como o estado civil dos alunos (variável Q002) influencia o desempenho nas provas do ENEM?"
   ]
  },
  {
   "cell_type": "code",
   "execution_count": null,
   "metadata": {
    "colab": {
     "base_uri": "https://localhost:8080/",
     "height": 722
    },
    "id": "CloJ2z0iJXPL",
    "outputId": "a6e8451e-3180-4eab-e78a-6e30b060cb12"
   },
   "outputs": [],
   "source": [
    "estado_civil_map = {\n",
    "    1: 'Solteiro(a)',\n",
    "    2: 'Casado(a)',\n",
    "    3: 'Divorciado(a)',\n",
    "    4: 'Viúvo(a)',\n",
    "    5: 'Outro'\n",
    "}\n",
    "\n",
    "microdados_df['Estado Civil'] = microdados_df['TP_ESTADO_CIVIL'].map(estado_civil_map)\n",
    "\n",
    "df_estado_civil = microdados_df[['Estado Civil', 'NU_NOTA_CN', 'NU_NOTA_MT', 'NU_NOTA_REDACAO']]\n",
    "\n",
    "media_notas = df_estado_civil.groupby('Estado Civil').mean()\n",
    "\n",
    "plt.figure(figsize=(15, 6))\n",
    "\n",
    "# Gráfico de barras para Ciências da Natureza\n",
    "plt.subplot(1, 3, 1)\n",
    "sns.barplot(x=media_notas.index, y=media_notas['NU_NOTA_CN'], hue=media_notas.index, palette=\"viridis\")\n",
    "plt.title('Média de Notas em Ciências da Natureza por Estado Civil')\n",
    "plt.xlabel('Estado Civil')\n",
    "plt.ylabel('Média de Notas')\n",
    "\n",
    "# Gráfico de barras para Matemática\n",
    "plt.subplot(1, 3, 2)\n",
    "sns.barplot(x=media_notas.index, y=media_notas['NU_NOTA_MT'], hue=media_notas.index, palette=\"viridis\")\n",
    "plt.title('Média de Notas em Matemática por Estado Civil')\n",
    "plt.xlabel('Estado Civil')\n",
    "plt.ylabel('Média de Notas')\n",
    "\n",
    "# Gráfico de barras para Redação\n",
    "plt.subplot(1, 3, 3)\n",
    "sns.barplot(x=media_notas.index, y=media_notas['NU_NOTA_REDACAO'], hue=media_notas.index, palette=\"viridis\")\n",
    "plt.title('Média de Notas na Redação por Estado Civil')\n",
    "plt.xlabel('Estado Civil')\n",
    "plt.ylabel('Média de Notas')\n",
    "\n",
    "plt.tight_layout()\n",
    "plt.show() \n",
    "\n",
    "df_estado_civil_filtrado = df_estado_civil[df_estado_civil['Estado Civil'].isin(['Solteiro(a)', 'Casado(a)', 'Divorciado(a)'])]\n",
    "\n",
    "df_estado_civil_filtrado = df_estado_civil_filtrado.dropna(subset=['NU_NOTA_CN', 'NU_NOTA_MT', 'NU_NOTA_REDACAO'])\n",
    "\n",
    "anova_cn = stats.f_oneway(\n",
    "    df_estado_civil_filtrado[df_estado_civil_filtrado['Estado Civil'] == 'Solteiro(a)']['NU_NOTA_CN'],\n",
    "    df_estado_civil_filtrado[df_estado_civil_filtrado['Estado Civil'] == 'Casado(a)']['NU_NOTA_CN'],\n",
    "    df_estado_civil_filtrado[df_estado_civil_filtrado['Estado Civil'] == 'Divorciado(a)']['NU_NOTA_CN']\n",
    ")\n",
    "\n",
    "anova_mt = stats.f_oneway(\n",
    "    df_estado_civil_filtrado[df_estado_civil_filtrado['Estado Civil'] == 'Solteiro(a)']['NU_NOTA_MT'],\n",
    "    df_estado_civil_filtrado[df_estado_civil_filtrado['Estado Civil'] == 'Casado(a)']['NU_NOTA_MT'],\n",
    "    df_estado_civil_filtrado[df_estado_civil_filtrado['Estado Civil'] == 'Divorciado(a)']['NU_NOTA_MT']\n",
    ")\n",
    "\n",
    "anova_redacao = stats.f_oneway(\n",
    "    df_estado_civil_filtrado[df_estado_civil_filtrado['Estado Civil'] == 'Solteiro(a)']['NU_NOTA_REDACAO'],\n",
    "    df_estado_civil_filtrado[df_estado_civil_filtrado['Estado Civil'] == 'Casado(a)']['NU_NOTA_REDACAO'],\n",
    "    df_estado_civil_filtrado[df_estado_civil_filtrado['Estado Civil'] == 'Divorciado(a)']['NU_NOTA_REDACAO']\n",
    ")\n",
    "\n",
    "print(f\"Resultado ANOVA para Ciências da Natureza: {anova_cn.pvalue}\")\n",
    "print(f\"Resultado ANOVA para Matemática: {anova_mt.pvalue}\")\n",
    "print(f\"Resultado ANOVA para Redação: {anova_redacao.pvalue}\")"
   ]
  },
  {
   "cell_type": "markdown",
   "metadata": {
    "id": "UWR0JDyAJsMW"
   },
   "source": [
    "- **O estado civil não parece ser uma váriavel tão consideravel para o desempenho dos alunos**"
   ]
  },
  {
   "cell_type": "markdown",
   "metadata": {
    "id": "JfDY8T8tKqJ8"
   },
   "source": [
    "# RETRATO SOCIO ECONOMICO DAS MAIORES MEDIAS GERAIS DO ENEM"
   ]
  },
  {
   "cell_type": "code",
   "execution_count": null,
   "metadata": {
    "colab": {
     "base_uri": "https://localhost:8080/"
    },
    "id": "6q7xtTwNKtB-",
    "outputId": "09fdc1b3-b8c2-434b-8701-f712ca3f037f"
   },
   "outputs": [],
   "source": [
    "notas = ['NU_NOTA_CN', 'NU_NOTA_MT', 'NU_NOTA_REDACAO', 'NU_NOTA_CH', 'NU_NOTA_LC']\n",
    "\n",
    "microdados_df['Média Geral'] = microdados_df[notas].mean(axis=1, skipna=True)\n",
    "\n",
    "maiores_medias = microdados_df['Média Geral'].nlargest(1000)\n",
    "\n",
    "microdados_df.info()\n",
    "\n",
    "top_5_maiores_medias = microdados_df.nlargest(5, 'Média Geral')\n",
    "\n",
    "top_5_medias_com_info = top_5_maiores_medias[['Renda', 'TP_LINGUA']]\n",
    "\n",
    "print(top_5_medias_com_info)\n",
    "\n",
    "plt.figure(figsize=(10, 6))\n",
    "plt.bar(top_5_medias_com_info.index.astype(str), top_5_medias_com_info['Renda'], color='skyblue')\n",
    "\n",
    "plt.title('Top 5 Maiores Médias - Renda', fontsize=14)\n",
    "plt.xlabel('Índices das 5 Maiores Médias', fontsize=12)\n",
    "plt.ylabel('Renda', fontsize=12)\n",
    "\n",
    "plt.show()\n",
    "\n",
    "plt.figure(figsize=(10, 6))\n",
    "sns.barplot(x=top_5_medias_com_info.index.astype(str), y=top_5_medias_com_info['Renda'], hue=top_5_medias_com_info['TP_LINGUA'], palette='coolwarm')\n",
    "\n",
    "plt.title('Top 5 Maiores Médias - Renda com TP_LINGUA', fontsize=14)\n",
    "plt.xlabel('Índices das 5 Maiores Médias', fontsize=12)\n",
    "plt.ylabel('Renda', fontsize=12)\n",
    "\n",
    "plt.show()"
   ]
  },
  {
   "cell_type": "markdown",
   "metadata": {
    "id": "Ve4hVGMrMhUm"
   },
   "source": [
    "- **como parte da tratativa de dados, é interessante colocar as colunas que foram inseridos por codigo no topo do notebook: renda, média, estado civil**"
   ]
  }
 ],
 "metadata": {
  "colab": {
   "provenance": []
  },
  "kernelspec": {
   "display_name": "Python 3 (ipykernel)",
   "language": "python",
   "name": "python3"
  },
  "language_info": {
   "codemirror_mode": {
    "name": "ipython",
    "version": 3
   },
   "file_extension": ".py",
   "mimetype": "text/x-python",
   "name": "python",
   "nbconvert_exporter": "python",
   "pygments_lexer": "ipython3",
   "version": "3.12.7"
  }
 },
 "nbformat": 4,
 "nbformat_minor": 4
}
